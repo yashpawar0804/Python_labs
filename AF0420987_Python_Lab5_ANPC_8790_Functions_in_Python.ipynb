{
  "nbformat": 4,
  "nbformat_minor": 0,
  "metadata": {
    "colab": {
      "provenance": []
    },
    "kernelspec": {
      "name": "python3",
      "display_name": "Python 3"
    },
    "language_info": {
      "name": "python"
    }
  },
  "cells": [
    {
      "cell_type": "markdown",
      "source": [
        "1- Write a function that calculates the area of a rectangle given its length and width.\n",
        "\n",
        "Description: Create a function that takes two parameters, length and width, and returns the area of the rectangle calculated using the formula: area = length * width.\n",
        "\n"
      ],
      "metadata": {
        "id": "iNByuNH87IXE"
      }
    },
    {
      "cell_type": "code",
      "execution_count": 2,
      "metadata": {
        "colab": {
          "base_uri": "https://localhost:8080/"
        },
        "id": "vHXxxJ6p7HGL",
        "outputId": "13cf76b5-ec3c-4437-c76d-1148619f3d3c"
      },
      "outputs": [
        {
          "output_type": "stream",
          "name": "stdout",
          "text": [
            "Area of rectangle with length: 5 and width: 10 is = 50\n"
          ]
        }
      ],
      "source": [
        "def area_rectangle(length,width):\n",
        "  areaRectangle = length * width\n",
        "  print(\"Area of rectangle with length:\", length, \"and width:\",width,\"is =\",areaRectangle)\n",
        "\n",
        "area_rectangle(5,10)"
      ]
    },
    {
      "cell_type": "markdown",
      "source": [
        "2- Create a function that converts temperature from Celsius to Fahrenheit.\n",
        "\n",
        "Description: Define a function that accepts a temperature value in Celsius and returns its equivalent in Fahrenheit using the conversion formula: Fahrenheit = (Celsius * 9/5) + 32.\n",
        "\n"
      ],
      "metadata": {
        "id": "9iDxcSZy7tC2"
      }
    },
    {
      "cell_type": "code",
      "source": [
        "def degree_to_fahrenheit(temp):\n",
        "  print(temp,\"degree C is equal to\",32 + (temp*9/5),\"Fahrenheit\")\n",
        "\n",
        "degree_to_fahrenheit(20)"
      ],
      "metadata": {
        "colab": {
          "base_uri": "https://localhost:8080/"
        },
        "id": "eK90tY_A7x_Q",
        "outputId": "b376af1a-dd51-4f11-b0ac-c6f0aaba08b9"
      },
      "execution_count": null,
      "outputs": [
        {
          "output_type": "stream",
          "name": "stdout",
          "text": [
            "20 degree C is equal to 68.0 Fahrenheit\n"
          ]
        }
      ]
    },
    {
      "cell_type": "markdown",
      "source": [
        "3- Write a function to find the factorial of a number.\n",
        "\n",
        "Description: Implement a function that computes the factorial of a given number using recursion or iteration.\n",
        "\n"
      ],
      "metadata": {
        "id": "7z06B45j7yM5"
      }
    },
    {
      "cell_type": "code",
      "source": [
        "def factorial(n):\n",
        "  if n == 0:\n",
        "    return 1\n",
        "  else:\n",
        "    return n * factorial(n-1)\n",
        "\n",
        "factorial(5)"
      ],
      "metadata": {
        "colab": {
          "base_uri": "https://localhost:8080/"
        },
        "id": "VX-FbBun7z3A",
        "outputId": "9f885353-fa1e-4b95-e0a9-af74c21540f4"
      },
      "execution_count": null,
      "outputs": [
        {
          "output_type": "execute_result",
          "data": {
            "text/plain": [
              "120"
            ]
          },
          "metadata": {},
          "execution_count": 5
        }
      ]
    },
    {
      "cell_type": "markdown",
      "source": [
        "4- Design a function to check if a given number is prime.\n",
        "\n",
        "Description: Develop a function that determines whether a given number is prime or not. A prime number is a natural number greater than 1 that has no positive divisors other than 1 and itself.\n",
        "\n"
      ],
      "metadata": {
        "id": "P7kL-dFo70GX"
      }
    },
    {
      "cell_type": "code",
      "source": [
        "def check_prime(n):\n",
        "  if n > 1:\n",
        "    for i in range(2,n//2):\n",
        "      if (n % i) == 0:\n",
        "        print(n,\"is not a prime number\")\n",
        "        break\n",
        "    else:\n",
        "      print(n,\"is a prime number\")\n",
        "\n",
        "check_prime(12)"
      ],
      "metadata": {
        "colab": {
          "base_uri": "https://localhost:8080/"
        },
        "id": "yTVfMkvH72VX",
        "outputId": "e4e2616c-231d-44b7-bf13-296904ccebf7"
      },
      "execution_count": 3,
      "outputs": [
        {
          "output_type": "stream",
          "name": "stdout",
          "text": [
            "12 is not a prime number\n"
          ]
        }
      ]
    },
    {
      "cell_type": "markdown",
      "source": [
        "5- Create a function that reverses a given string.\n",
        "\n",
        "Description: Define a function that takes a string as input and returns its reverse. For example, \"hello\" should be returned as \"olleh\".\n",
        "\n"
      ],
      "metadata": {
        "id": "6MlU1ESb72iv"
      }
    },
    {
      "cell_type": "code",
      "source": [
        "def rev_string(string1):\n",
        "  print(string1[::-1])\n",
        "\n",
        "rev_string(\"hello\")"
      ],
      "metadata": {
        "colab": {
          "base_uri": "https://localhost:8080/"
        },
        "id": "EsY6p2Ko7459",
        "outputId": "7ab13945-d64f-48d7-db4d-42e187717544"
      },
      "execution_count": null,
      "outputs": [
        {
          "output_type": "stream",
          "name": "stdout",
          "text": [
            "olleh\n"
          ]
        }
      ]
    },
    {
      "cell_type": "markdown",
      "source": [
        "6- Write a function to compute the nth Fibonacci number.\n",
        "\n",
        "Description: Implement a function that returns the nth Fibonacci number, where Fibonacci sequence starts with 0 and 1, and each subsequent number is the sum of the previous two.\n",
        "\n"
      ],
      "metadata": {
        "id": "febnrrUk75IU"
      }
    },
    {
      "cell_type": "code",
      "source": [
        "def fibonacci(n):\n",
        "  if n <= 0:\n",
        "    print(\"Incorrect input\")\n",
        "  elif n == 1:\n",
        "    return 0\n",
        "  elif n == 2:\n",
        "    return 1\n",
        "  else:\n",
        "    return fibonacci(n-1)+fibonacci(n-2)\n",
        "\n",
        "fibonacci(5)"
      ],
      "metadata": {
        "colab": {
          "base_uri": "https://localhost:8080/"
        },
        "id": "Uh210XXm76ox",
        "outputId": "d32b0342-bf9d-4e33-8775-f4634207562d"
      },
      "execution_count": null,
      "outputs": [
        {
          "output_type": "execute_result",
          "data": {
            "text/plain": [
              "3"
            ]
          },
          "metadata": {},
          "execution_count": 3
        }
      ]
    },
    {
      "cell_type": "markdown",
      "source": [
        "7- Create a function to find the largest element in a list.\n",
        "\n",
        "Description: Develop a function that takes a list of numbers as input and returns the largest element present in the list.\n",
        "\n"
      ],
      "metadata": {
        "id": "RqjhJxw8763b"
      }
    },
    {
      "cell_type": "code",
      "source": [
        "def largest(list1):\n",
        "  print(max(list1))\n",
        "\n",
        "largest([1,2,3,4,5])"
      ],
      "metadata": {
        "colab": {
          "base_uri": "https://localhost:8080/"
        },
        "id": "epOJbPdk78jj",
        "outputId": "e883141e-a679-4923-e162-2c52fa1e43f8"
      },
      "execution_count": null,
      "outputs": [
        {
          "output_type": "stream",
          "name": "stdout",
          "text": [
            "5\n"
          ]
        }
      ]
    },
    {
      "cell_type": "markdown",
      "source": [
        "8- Design a function to count the number of vowels in a string.\n",
        "\n",
        "Description: Define a function that counts and returns the number of vowels (a, e, i, o, u) present in a given string.\n",
        "\n"
      ],
      "metadata": {
        "id": "c_Tia75b780W"
      }
    },
    {
      "cell_type": "code",
      "source": [
        "def count_vowels(str):\n",
        "  count = 0\n",
        "  for i in str:\n",
        "    if i in \"aeiouAEIOU\":\n",
        "      count += 1\n",
        "  print(count)\n",
        "\n",
        "count_vowels(\"hello\")"
      ],
      "metadata": {
        "id": "FO4Fg4jJ7-fi",
        "colab": {
          "base_uri": "https://localhost:8080/"
        },
        "outputId": "900066e5-25d1-4266-88d6-c0e71fa90ded"
      },
      "execution_count": 4,
      "outputs": [
        {
          "output_type": "stream",
          "name": "stdout",
          "text": [
            "2\n"
          ]
        }
      ]
    },
    {
      "cell_type": "markdown",
      "source": [
        "9- Write a function to calculate the factorial of each number in a given list.\n",
        "\n",
        "Description: Create a function that accepts a list of numbers as input and returns a new list containing the factorial of each number in the original list.\n",
        "\n"
      ],
      "metadata": {
        "id": "Ifyx4He-7-ur"
      }
    },
    {
      "cell_type": "code",
      "source": [
        "def factorial(n):\n",
        "  if n == 0:\n",
        "    return 1\n",
        "  else:\n",
        "    return n * factorial(n-1)\n",
        "\n",
        "def num_list(list1):\n",
        "  list2 = []\n",
        "  for i in list1:\n",
        "    list2.append(factorial(i))\n",
        "  print(list2)\n",
        "\n",
        "num_list([1,2,3,4,5])"
      ],
      "metadata": {
        "colab": {
          "base_uri": "https://localhost:8080/"
        },
        "id": "BmvQeJyQ8Atf",
        "outputId": "5c71d830-9888-4d49-9b7f-43bca0dfa4a4"
      },
      "execution_count": null,
      "outputs": [
        {
          "output_type": "stream",
          "name": "stdout",
          "text": [
            "[1, 2, 6, 24, 120]\n"
          ]
        }
      ]
    },
    {
      "cell_type": "markdown",
      "source": [
        "10- Create a function to check if a string is a palindrome.\n",
        "\n",
        "Description: Implement a function that checks whether a given string is a palindrome or not. A palindrome is a string that reads the same forwards and backwards."
      ],
      "metadata": {
        "id": "U-IMXcxc8A_X"
      }
    },
    {
      "cell_type": "code",
      "source": [
        "def pallindrome(str):\n",
        "  if str == str[::-1]:\n",
        "    print(\"String is pallindrome\")\n",
        "  else:\n",
        "    print(\"String is not pallindrome\")\n",
        "\n",
        "pallindrome(\"madam\")"
      ],
      "metadata": {
        "colab": {
          "base_uri": "https://localhost:8080/"
        },
        "id": "1XXjQPfQ7snY",
        "outputId": "94c4edbd-330b-459d-98ea-730da911cb1e"
      },
      "execution_count": null,
      "outputs": [
        {
          "output_type": "stream",
          "name": "stdout",
          "text": [
            "String is pallindrome\n"
          ]
        }
      ]
    }
  ]
}