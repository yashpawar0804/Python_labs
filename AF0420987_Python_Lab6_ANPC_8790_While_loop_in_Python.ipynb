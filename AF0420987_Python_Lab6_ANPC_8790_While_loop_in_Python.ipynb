{
  "nbformat": 4,
  "nbformat_minor": 0,
  "metadata": {
    "colab": {
      "provenance": []
    },
    "kernelspec": {
      "name": "python3",
      "display_name": "Python 3"
    },
    "language_info": {
      "name": "python"
    }
  },
  "cells": [
    {
      "cell_type": "markdown",
      "source": [
        "Q1: Write a Python program to print numbers from 1 to 5 using a while loop.\n",
        "Output:\n",
        "1\n",
        "2\n",
        "3\n",
        "4\n",
        "5\n",
        "\n"
      ],
      "metadata": {
        "id": "In3XoHOe_dQR"
      }
    },
    {
      "cell_type": "code",
      "source": [
        "n=1\n",
        "while n < 6:\n",
        "  print(n)\n",
        "  n +=1"
      ],
      "metadata": {
        "id": "9q1fDxmN_dhS",
        "colab": {
          "base_uri": "https://localhost:8080/"
        },
        "outputId": "bfe84191-3785-49ae-ba76-51cf8ec61491"
      },
      "execution_count": null,
      "outputs": [
        {
          "output_type": "stream",
          "name": "stdout",
          "text": [
            "1\n",
            "2\n",
            "3\n",
            "4\n",
            "5\n"
          ]
        }
      ]
    },
    {
      "cell_type": "markdown",
      "source": [
        "Q2: Write a Python program to print the first 10 even numbers using a while loop.\n",
        "Output:\n",
        "2\n",
        "4\n",
        "6\n",
        "8\n",
        "10\n",
        "12\n",
        "14\n",
        "16\n",
        "18\n",
        "20\n",
        "\n"
      ],
      "metadata": {
        "id": "dxHSxBWy_dxJ"
      }
    },
    {
      "cell_type": "code",
      "source": [
        "n = 1\n",
        "count = 0\n",
        "while count < 10:\n",
        "  if n%2==0:\n",
        "    print(n)\n",
        "    count += 1\n",
        "  n += 1"
      ],
      "metadata": {
        "id": "sO_XAsZc_jXq",
        "colab": {
          "base_uri": "https://localhost:8080/"
        },
        "outputId": "47db7e57-5165-422b-d0b8-1ff8dbef9d47"
      },
      "execution_count": null,
      "outputs": [
        {
          "output_type": "stream",
          "name": "stdout",
          "text": [
            "2\n",
            "4\n",
            "6\n",
            "8\n",
            "10\n",
            "12\n",
            "14\n",
            "16\n",
            "18\n",
            "20\n"
          ]
        }
      ]
    },
    {
      "cell_type": "markdown",
      "source": [
        "Q3: Write a Python program to print the first 5 odd numbers using a while loop.\n",
        "Output:\n",
        "1\n",
        "3\n",
        "5\n",
        "7\n",
        "9\n"
      ],
      "metadata": {
        "id": "QYBvdd9d_jn6"
      }
    },
    {
      "cell_type": "code",
      "source": [
        "n = 1\n",
        "count = 0\n",
        "while count < 5:\n",
        "  if n%2!=0:\n",
        "    print(n)\n",
        "    count += 1\n",
        "  n += 1"
      ],
      "metadata": {
        "id": "hnReROxK_l-t",
        "colab": {
          "base_uri": "https://localhost:8080/"
        },
        "outputId": "5de923f0-1c6f-40df-f1e8-1d0301909b11"
      },
      "execution_count": null,
      "outputs": [
        {
          "output_type": "stream",
          "name": "stdout",
          "text": [
            "1\n",
            "3\n",
            "5\n",
            "7\n",
            "9\n"
          ]
        }
      ]
    },
    {
      "cell_type": "markdown",
      "source": [
        "Q4: Write a Python program to print the multiplication table of 3 using a while loop (from 3x1 to 3x10).\n",
        "Output:\n",
        "3 × 1 = 3\n",
        "3 × 2 = 6\n",
        "3 × 3 = 9\n",
        "...\n",
        "3 × 10 = 30\n",
        "\n",
        "\n"
      ],
      "metadata": {
        "id": "UWW1oC0s_mZj"
      }
    },
    {
      "cell_type": "code",
      "source": [
        "n = 1\n",
        "while n <= 10:\n",
        "  print(3,\"×\",n,\"=\",3*n)\n",
        "  n += 1"
      ],
      "metadata": {
        "id": "3o54Vei8_sib",
        "colab": {
          "base_uri": "https://localhost:8080/"
        },
        "outputId": "ed42381d-ddd6-488c-a0dc-cc79d1d137a7"
      },
      "execution_count": null,
      "outputs": [
        {
          "output_type": "stream",
          "name": "stdout",
          "text": [
            "3 × 1 = 3\n",
            "3 × 2 = 6\n",
            "3 × 3 = 9\n",
            "3 × 4 = 12\n",
            "3 × 5 = 15\n",
            "3 × 6 = 18\n",
            "3 × 7 = 21\n",
            "3 × 8 = 24\n",
            "3 × 9 = 27\n",
            "3 × 10 = 30\n"
          ]
        }
      ]
    },
    {
      "cell_type": "markdown",
      "source": [
        "Q5: Write a Python program to print numbers from 10 down to 1 using a while loop.\n",
        "Output:\n",
        "10\n",
        "9\n",
        "8\n",
        "7\n",
        "...\n",
        "1\n",
        "\n"
      ],
      "metadata": {
        "id": "o5zcSvS8_s1V"
      }
    },
    {
      "cell_type": "code",
      "source": [
        "n = 10\n",
        "while n > 0:\n",
        "  print(n)\n",
        "  n -= 1"
      ],
      "metadata": {
        "id": "trLED_3b_wYL",
        "colab": {
          "base_uri": "https://localhost:8080/"
        },
        "outputId": "ed6fc151-a5f9-4e32-db3f-972b02d59b12"
      },
      "execution_count": null,
      "outputs": [
        {
          "output_type": "stream",
          "name": "stdout",
          "text": [
            "10\n",
            "9\n",
            "8\n",
            "7\n",
            "6\n",
            "5\n",
            "4\n",
            "3\n",
            "2\n",
            "1\n"
          ]
        }
      ]
    },
    {
      "cell_type": "markdown",
      "source": [
        "Q6: Write a Python program to calculate the sum of numbers from 1 to 10 using a while loop.\n",
        "Output:\n",
        "Sum = 55\n",
        "\n"
      ],
      "metadata": {
        "id": "vrJ-HS0W_wnm"
      }
    },
    {
      "cell_type": "code",
      "source": [
        "n = 1\n",
        "sum = 0\n",
        "while n < 11:\n",
        "  sum += n\n",
        "  n +=1\n",
        "print(\"The sum of numbers from 1 to 10 =\",sum)"
      ],
      "metadata": {
        "id": "N1kQo6c4_ypx",
        "colab": {
          "base_uri": "https://localhost:8080/"
        },
        "outputId": "f35437c0-74c3-476d-d221-078ee9f2666c"
      },
      "execution_count": null,
      "outputs": [
        {
          "output_type": "stream",
          "name": "stdout",
          "text": [
            "The sum of numbers from 1 to 10 = 55\n"
          ]
        }
      ]
    },
    {
      "cell_type": "markdown",
      "source": [
        "Q7: Write a Python program to print all numbers from 1 to 50 that are divisible by 5 using a while loop.\n",
        "Output:\n",
        "5\n",
        "10\n",
        "15\n",
        "...\n",
        "50\n",
        "\n"
      ],
      "metadata": {
        "id": "D-s4AFNs_zdB"
      }
    },
    {
      "cell_type": "code",
      "source": [
        "n = 1\n",
        "while n<51:\n",
        "  if n%5==0:\n",
        "    print(n)\n",
        "  n +=1"
      ],
      "metadata": {
        "id": "VGJcLl2X_1U8",
        "colab": {
          "base_uri": "https://localhost:8080/"
        },
        "outputId": "80b12f9c-7d88-4f2e-9dd8-04e06c6d44c0"
      },
      "execution_count": null,
      "outputs": [
        {
          "output_type": "stream",
          "name": "stdout",
          "text": [
            "5\n",
            "10\n",
            "15\n",
            "20\n",
            "25\n",
            "30\n",
            "35\n",
            "40\n",
            "45\n",
            "50\n"
          ]
        }
      ]
    },
    {
      "cell_type": "markdown",
      "source": [
        "Q8: Write a Python program to print numbers between 1 and 20 that are multiples of 3 using a while loop.\n",
        "Output:\n",
        "3\n",
        "6\n",
        "9\n",
        "12\n",
        "15\n",
        "18\n",
        "\n"
      ],
      "metadata": {
        "id": "kWHzY3bE_1lN"
      }
    },
    {
      "cell_type": "code",
      "source": [
        "n = 1\n",
        "while n<21:\n",
        "  if n%3==0:\n",
        "    print(n)\n",
        "  n +=1"
      ],
      "metadata": {
        "id": "hXN8paCk_2-s",
        "colab": {
          "base_uri": "https://localhost:8080/"
        },
        "outputId": "21cf1579-94e9-411b-cb2c-4f89b39fd7c0"
      },
      "execution_count": null,
      "outputs": [
        {
          "output_type": "stream",
          "name": "stdout",
          "text": [
            "3\n",
            "6\n",
            "9\n",
            "12\n",
            "15\n",
            "18\n"
          ]
        }
      ]
    },
    {
      "cell_type": "markdown",
      "source": [
        "Q9: Write a Python program to find the factorial of a number using a while loop.\n",
        "Example:\n",
        "Input: 5\n",
        "Output: 120 (because 5 × 4 × 3 × 2 × 1 = 120)\n",
        "\n"
      ],
      "metadata": {
        "id": "lA2B5iTY_3Ph"
      }
    },
    {
      "cell_type": "code",
      "source": [
        "n = int(input(\"Enter a number: \"))\n",
        "i=n\n",
        "fact = 1\n",
        "\n",
        "while n > 0:\n",
        "  fact = fact * n\n",
        "  n -= 1\n",
        "\n",
        "print(\"Factorial of number\",i,\"is\",fact)"
      ],
      "metadata": {
        "id": "1y9oH8vD_42B",
        "colab": {
          "base_uri": "https://localhost:8080/"
        },
        "outputId": "22051b19-8abd-4327-b091-fdb8b2b1080b"
      },
      "execution_count": null,
      "outputs": [
        {
          "output_type": "stream",
          "name": "stdout",
          "text": [
            "Enter a number: 5\n",
            "Factorial of number 5 is 120\n"
          ]
        }
      ]
    },
    {
      "cell_type": "markdown",
      "source": [
        "Q10: Write a Python program to calculate the sum of digits of a number using a while loop.\n",
        "Example:\n",
        "Input: 123\n",
        "Output: 6 (because 1 + 2 + 3 = 6)"
      ],
      "metadata": {
        "id": "r6xrKq0w_5HO"
      }
    },
    {
      "cell_type": "code",
      "source": [
        "n = input(\"Enter a multiple digit number: \")\n",
        "i = 0\n",
        "sum = 0\n",
        "while i < len(n):\n",
        "  sum = sum + int(n[i])\n",
        "  i += 1\n",
        "\n",
        "print(\"The sum of digits of a number is\",sum)\n"
      ],
      "metadata": {
        "id": "VbKy8Tve_eB_",
        "colab": {
          "base_uri": "https://localhost:8080/"
        },
        "outputId": "eb31718a-4898-47f5-9396-bcafa8482bcb"
      },
      "execution_count": null,
      "outputs": [
        {
          "output_type": "stream",
          "name": "stdout",
          "text": [
            "Enter a multiple digit number: 123\n",
            "The sum of digits of a number is 6\n"
          ]
        }
      ]
    },
    {
      "cell_type": "markdown",
      "source": [
        "Q1: Write a Python program to print the sum of all even numbers between 1 and 100 using a while loop.\n",
        "Output:\n",
        "Sum of even numbers = 2550\n",
        "\n"
      ],
      "metadata": {
        "id": "dt7MMzM1KgXk"
      }
    },
    {
      "cell_type": "code",
      "source": [
        "n = 1\n",
        "sum = 0\n",
        "while n <= 100:\n",
        "  if n%2==0:\n",
        "    sum += n\n",
        "  n +=1\n",
        "print(\"The sum of all even numbers between 1 and 100:\",sum)"
      ],
      "metadata": {
        "colab": {
          "base_uri": "https://localhost:8080/"
        },
        "id": "mORhZg-QKj-d",
        "outputId": "8d77dc4c-a66f-4167-fae1-6f0b1f4b5ab7"
      },
      "execution_count": null,
      "outputs": [
        {
          "output_type": "stream",
          "name": "stdout",
          "text": [
            "The sum of all even numbers between 1 and 100: 2550\n"
          ]
        }
      ]
    },
    {
      "cell_type": "markdown",
      "source": [
        "Q2: Write a Python program to reverse a number using a while loop.\n",
        "Example:\n",
        "Input: 1234\n",
        "Output: 4321\n",
        "\n"
      ],
      "metadata": {
        "id": "8kvXD5ZsKkTn"
      }
    },
    {
      "cell_type": "code",
      "source": [
        "num = int(input(\"Enter a number:\"))\n",
        "rev_num = 0\n",
        "while num > 0:\n",
        "  temp = num % 10\n",
        "  num = num//10\n",
        "  rev_num = rev_num*10+temp\n",
        "print(\"Reversed number:\",rev_num)"
      ],
      "metadata": {
        "colab": {
          "base_uri": "https://localhost:8080/"
        },
        "id": "gTtamqa3t4Uj",
        "outputId": "b1f09c09-08b4-4b21-c48a-6b25083a252c"
      },
      "execution_count": null,
      "outputs": [
        {
          "output_type": "stream",
          "name": "stdout",
          "text": [
            "Enter a number:1234\n",
            "Reversed number: 4321\n"
          ]
        }
      ]
    },
    {
      "cell_type": "markdown",
      "source": [
        "Q3: Write a Python program to find the sum of digits of a given number using a while loop.\n",
        "Example:\n",
        "Input: 567\n",
        "Output: 18 (5 + 6 + 7 = 18)\n",
        "\n"
      ],
      "metadata": {
        "id": "9zv_aqLuaJUt"
      }
    },
    {
      "cell_type": "code",
      "source": [
        "n = input(\"Enter a multiple digit number: \")\n",
        "i = 0\n",
        "sum = 0\n",
        "while i < len(n):\n",
        "  sum = sum + int(n[i])\n",
        "  i += 1\n",
        "\n",
        "print(\"The sum of digits of a number =\",sum)"
      ],
      "metadata": {
        "colab": {
          "base_uri": "https://localhost:8080/"
        },
        "id": "1aSVddpaaNz4",
        "outputId": "476e02ab-5b50-4962-91e4-086d0adafef4"
      },
      "execution_count": null,
      "outputs": [
        {
          "output_type": "stream",
          "name": "stdout",
          "text": [
            "Enter a multiple digit number: 567\n",
            "The sum of digits of a number = 18\n"
          ]
        }
      ]
    },
    {
      "cell_type": "markdown",
      "source": [
        "Q4: Write a Python program to find the greatest common divisor (GCD) of two numbers using a while loop.\n",
        "Example:\n",
        "Input: 36, 60\n",
        "Output: 12\n",
        "\n"
      ],
      "metadata": {
        "id": "Eb3HlFCGaOBt"
      }
    },
    {
      "cell_type": "code",
      "source": [
        "num1 = int(input(\"Enter the first number:\"))\n",
        "num2 = int(input(\"Enter the second number:\"))\n",
        "\n",
        "while num2 != 0:\n",
        "  temp = num2\n",
        "  num2 = num1 % num2\n",
        "  num1 = temp\n",
        "\n",
        "print(\"The GCD of two numbers is\",num1)"
      ],
      "metadata": {
        "id": "Bn5zuYV7aQEY",
        "colab": {
          "base_uri": "https://localhost:8080/"
        },
        "outputId": "13a7c932-71d0-461e-cc40-e9d9a1e37dfb"
      },
      "execution_count": 1,
      "outputs": [
        {
          "output_type": "stream",
          "name": "stdout",
          "text": [
            "Enter the first number:36\n",
            "Enter the second number:60\n",
            "The GCD of two numbers is 12\n"
          ]
        }
      ]
    },
    {
      "cell_type": "markdown",
      "source": [
        "Q5: Write a Python program to calculate the power of a number using a while loop (without using the ** operator).\n",
        "Example:\n",
        "Input: base = 2, exponent = 4\n",
        "Output: 16 (because 2^4 = 16)\n",
        "\n"
      ],
      "metadata": {
        "id": "7QpPAOapaQTC"
      }
    },
    {
      "cell_type": "code",
      "source": [
        "base = int(input(\"Enter the base:\"))\n",
        "exponent = int(input(\"Enter the exponent:\"))\n",
        "i = 1\n",
        "power = base\n",
        "while i < exponent:\n",
        "  power = power*base\n",
        "  i +=1\n",
        "print(power)"
      ],
      "metadata": {
        "colab": {
          "base_uri": "https://localhost:8080/"
        },
        "id": "z3fwMBJ7aSE9",
        "outputId": "625c6a22-9404-4922-9dd0-c5dbccbc4af5"
      },
      "execution_count": null,
      "outputs": [
        {
          "output_type": "stream",
          "name": "stdout",
          "text": [
            "Enter the base:2\n",
            "Enter the exponent:4\n",
            "16\n"
          ]
        }
      ]
    },
    {
      "cell_type": "markdown",
      "source": [
        "Q6: Write a Python program to count the number of digits in a given number using a while loop.\n",
        "Example:\n",
        "Input: 78945\n",
        "Output: 5\n",
        "\n"
      ],
      "metadata": {
        "id": "VQPYjevDaSUZ"
      }
    },
    {
      "cell_type": "code",
      "source": [
        "num = int(input(\"Enter a number: \"))\n",
        "count = 0\n",
        "while num > 0:\n",
        "  num = num//10\n",
        "  count += 1\n",
        "print(count)"
      ],
      "metadata": {
        "colab": {
          "base_uri": "https://localhost:8080/"
        },
        "id": "FpZWLDUgaT0u",
        "outputId": "4576e09c-e6a1-4a62-b5e6-a4a3bb8810de"
      },
      "execution_count": null,
      "outputs": [
        {
          "output_type": "stream",
          "name": "stdout",
          "text": [
            "Enter a number: 78945\n",
            "5\n"
          ]
        }
      ]
    },
    {
      "cell_type": "markdown",
      "source": [
        "Q7: Write a Python program to check if a number is a palindrome using a while loop.\n",
        "Example:\n",
        "Input: 121\n",
        "Output: \"Palindrome\"\n",
        "\n"
      ],
      "metadata": {
        "id": "YBtyeAAfaUDD"
      }
    },
    {
      "cell_type": "code",
      "source": [
        "num = int(input(\"Enter a number: \"))\n",
        "num1 = num\n",
        "rev_num = 0\n",
        "while num1 > 0:\n",
        "  temp = num1 % 10\n",
        "  num1 = num1//10\n",
        "  rev_num = rev_num*10+temp\n",
        "if num == rev_num:\n",
        "   print(\"Palindrome\")\n",
        "else:\n",
        "  print(\"Not a Palindrome\")"
      ],
      "metadata": {
        "colab": {
          "base_uri": "https://localhost:8080/"
        },
        "id": "gsx2sMtxaVlP",
        "outputId": "e17ce1b5-63a4-4682-be9e-8cc3c82ec1be"
      },
      "execution_count": null,
      "outputs": [
        {
          "output_type": "stream",
          "name": "stdout",
          "text": [
            "Enter a number: 121\n",
            "Palindrome\n"
          ]
        }
      ]
    },
    {
      "cell_type": "markdown",
      "source": [
        "Q8: Write a Python program to print all the prime numbers between 1 and 50 using a while loop.\n",
        "Output:\n",
        "2, 3, 5, 7, 11, 13, 17, 19, 23, 29, 31, 37, 41, 43, 47\n",
        "\n"
      ],
      "metadata": {
        "id": "8SH3iLs7aV0b"
      }
    },
    {
      "cell_type": "code",
      "source": [
        "n = 2\n",
        "while n <= 50:\n",
        "  i = 2\n",
        "  isPrime = True\n",
        "  while i <= n // 2:\n",
        "    if n % i == 0:\n",
        "      isPrime = False\n",
        "      break\n",
        "    i += 1\n",
        "  if isPrime:\n",
        "    print(n, end=\", \")\n",
        "  n += 1"
      ],
      "metadata": {
        "id": "cjz7weiSaXX3",
        "colab": {
          "base_uri": "https://localhost:8080/"
        },
        "outputId": "d62a5ea9-a0da-45bf-9c3b-b5bd39328e7d"
      },
      "execution_count": 3,
      "outputs": [
        {
          "output_type": "stream",
          "name": "stdout",
          "text": [
            "2, 3, 5, 7, 11, 13, 17, 19, 23, 29, 31, 37, 41, 43, 47, "
          ]
        }
      ]
    },
    {
      "cell_type": "markdown",
      "source": [
        "Q9: Write a Python program to find the least common multiple (LCM) of two numbers using a while loop.\n",
        "Example:\n",
        "Input: 12, 15\n",
        "Output: 60\n",
        "\n"
      ],
      "metadata": {
        "id": "BrraM609aXl1"
      }
    },
    {
      "cell_type": "code",
      "source": [
        "num1 = int(input(\"Enter the first number:\"))\n",
        "num2 = int(input(\"Enter the second number:\"))\n",
        "\n",
        "if num1 > num2:\n",
        "  greater = num1\n",
        "else:\n",
        "  greater = num2\n",
        "while True:\n",
        "  if greater % num1 == 0 and greater % num2 == 0:\n",
        "    lcm = greater\n",
        "    break\n",
        "  greater += 1\n",
        "\n",
        "print(\"The LCM of two numbers is\",lcm)"
      ],
      "metadata": {
        "id": "Ab8PufceaZFL",
        "colab": {
          "base_uri": "https://localhost:8080/"
        },
        "outputId": "022494ce-7026-4e8a-bf9b-3c9a22b2fead"
      },
      "execution_count": 8,
      "outputs": [
        {
          "output_type": "stream",
          "name": "stdout",
          "text": [
            "Enter the first number:12\n",
            "Enter the second number:15\n",
            "The LCM of two numbers is 60\n"
          ]
        }
      ]
    },
    {
      "cell_type": "markdown",
      "source": [
        "Q10: Write a Python program to generate the Fibonacci sequence up to a given number using a while loop.\n",
        "Example:\n",
        "Input: 10\n",
        "Output: 0, 1, 1, 2, 3, 5, 8 (the Fibonacci sequence up to 10)"
      ],
      "metadata": {
        "id": "nQYgrFZEaZW9"
      }
    },
    {
      "cell_type": "code",
      "source": [
        "n = int(input(\"Enter a  number:\" ))\n",
        "num1 = 0\n",
        "num2 = 1\n",
        "print(num1, end=\", \")\n",
        "print(num2, end=\", \")\n",
        "num3 = 0\n",
        "while num3 < n:\n",
        "  num3 = num1 + num2\n",
        "  num1 = num2\n",
        "  num2 = num3\n",
        "  i += 1\n",
        "  print(num3, end=\", \")"
      ],
      "metadata": {
        "id": "MD0hGFtiKg-i",
        "colab": {
          "base_uri": "https://localhost:8080/"
        },
        "outputId": "30ba9561-2958-4090-f053-efca30aa5c54"
      },
      "execution_count": null,
      "outputs": [
        {
          "output_type": "stream",
          "name": "stdout",
          "text": [
            "Enter a  number:10\n",
            "0, 1, 1, 2, 3, 5, 8, 13, "
          ]
        }
      ]
    }
  ]
}