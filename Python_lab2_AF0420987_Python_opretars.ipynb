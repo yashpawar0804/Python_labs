{
  "nbformat": 4,
  "nbformat_minor": 0,
  "metadata": {
    "colab": {
      "provenance": []
    },
    "kernelspec": {
      "name": "python3",
      "display_name": "Python 3"
    },
    "language_info": {
      "name": "python"
    }
  },
  "cells": [
    {
      "cell_type": "markdown",
      "source": [
        "## Assignment Questions:\n",
        "\n",
        "## 1. Using input() function take one number from the user and using ternary operators check whether the number is even or odd.\n",
        "\n"
      ],
      "metadata": {
        "id": "iOlgKwJGTSx2"
      }
    },
    {
      "cell_type": "code",
      "source": [
        "num1 = int(input(\"Enter a number: \"))\n",
        "if num1 % 2 == 0:\n",
        "  print(\"Given number is Even.\")\n",
        "else:\n",
        "  print(\"Given number is Odd.\")"
      ],
      "metadata": {
        "colab": {
          "base_uri": "https://localhost:8080/"
        },
        "id": "_f2VIY77T6We",
        "outputId": "43f319c0-eb75-4585-d53a-04f432b684b4"
      },
      "execution_count": 4,
      "outputs": [
        {
          "output_type": "stream",
          "name": "stdout",
          "text": [
            "Enter a number: 10\n",
            "Given number is Even.\n"
          ]
        }
      ]
    },
    {
      "cell_type": "markdown",
      "source": [
        "# 2. Using input function take two numbers and then swap the numbers.\n",
        "\n"
      ],
      "metadata": {
        "id": "P1Nmw4rpTeVh"
      }
    },
    {
      "cell_type": "code",
      "source": [
        "#method 1\n",
        "num1 = int(input(\"Enter a number: \"))\n",
        "num2 = int(input(\"Enter a number: \"))\n",
        "num1, num2 = num2 , num1\n",
        "print(\"num1 =\",num1)\n",
        "print(\"num2 =\",num2)"
      ],
      "metadata": {
        "colab": {
          "base_uri": "https://localhost:8080/"
        },
        "id": "G3IadDQnT5mN",
        "outputId": "a4fcb20d-9666-4552-f8a7-10574136ece5"
      },
      "execution_count": 5,
      "outputs": [
        {
          "output_type": "stream",
          "name": "stdout",
          "text": [
            "Enter a number: 4\n",
            "Enter a number: 6\n",
            "num1 = 6\n",
            "num2 = 4\n"
          ]
        }
      ]
    },
    {
      "cell_type": "code",
      "source": [
        "#method 2\n",
        "num1 = int(input(\"Enter a number: \"))\n",
        "num2 = int(input(\"Enter a number: \"))\n",
        "temp = num1\n",
        "num1 = num2\n",
        "num2 = temp\n",
        "print(\"num1 =\",num1,\"and num2 =\",num2)"
      ],
      "metadata": {
        "colab": {
          "base_uri": "https://localhost:8080/"
        },
        "id": "zVH1p8tGWmRj",
        "outputId": "a627bc59-090e-41b1-d962-82b67c22d265"
      },
      "execution_count": 6,
      "outputs": [
        {
          "output_type": "stream",
          "name": "stdout",
          "text": [
            "Enter a number: 8\n",
            "Enter a number: 10\n",
            "num1 = 10 and num2 = 8\n"
          ]
        }
      ]
    },
    {
      "cell_type": "markdown",
      "source": [
        "# 3. Write a Program to Convert Kilometers to Miles.\n",
        "\n"
      ],
      "metadata": {
        "id": "7iz8XfzxTgZI"
      }
    },
    {
      "cell_type": "code",
      "source": [
        "km = float(input(\"Enter value in kilometer: \"))\n",
        "kmToMiles = km * 0.6213\n",
        "print(km,\"km is equal to\",kmToMiles,\"miles\")"
      ],
      "metadata": {
        "colab": {
          "base_uri": "https://localhost:8080/"
        },
        "id": "CSsIy3oST3mo",
        "outputId": "ff1feda4-07d3-46dd-f836-1684f8ac1211"
      },
      "execution_count": 8,
      "outputs": [
        {
          "output_type": "stream",
          "name": "stdout",
          "text": [
            "Enter value in kilometer: 15\n",
            "15 km is equal to 9.3195 miles\n"
          ]
        }
      ]
    },
    {
      "cell_type": "markdown",
      "source": [
        "# 4. Find the Simple Interest on Rs. 200 for 5 years at 5% per year.\n",
        "\n"
      ],
      "metadata": {
        "id": "d1s4FuSKTidd"
      }
    },
    {
      "cell_type": "code",
      "source": [
        "#S.I. = (P * R * T)/100\n",
        "p = 200\n",
        "r = 5\n",
        "t = 5\n",
        "simpleInterest = (p*r*t)/100\n",
        "print(\"Simple Interest on Rs. 200 for 5 years at 5% per year is \",simpleInterest)"
      ],
      "metadata": {
        "colab": {
          "base_uri": "https://localhost:8080/"
        },
        "id": "FygxNMYaT4SN",
        "outputId": "bf6df2e5-8652-4acf-97ca-d17acf614fa1"
      },
      "execution_count": 9,
      "outputs": [
        {
          "output_type": "stream",
          "name": "stdout",
          "text": [
            "Simple Interest on Rs. 200 for 5 years at 5% per year is  50.0\n"
          ]
        }
      ]
    },
    {
      "cell_type": "markdown",
      "source": [
        "# 5. Calculate the area of a circle.\n",
        "# Formula: Area of Circle = πr^2\n",
        "\n"
      ],
      "metadata": {
        "id": "CTevSVaATkR6"
      }
    },
    {
      "cell_type": "code",
      "source": [
        "radius = int(input(\"Enter radius of circle: \"))\n",
        "pi = 3.14\n",
        "area = pi*(radius**2)\n",
        "print(\"Area of circle =\",area)"
      ],
      "metadata": {
        "colab": {
          "base_uri": "https://localhost:8080/"
        },
        "id": "UOVb3MQKTnak",
        "outputId": "7639ccf7-1126-4499-a11b-a95c840e3c76"
      },
      "execution_count": 10,
      "outputs": [
        {
          "output_type": "stream",
          "name": "stdout",
          "text": [
            "Enter radius of circle: 10\n",
            "Area of circle = 314.0\n"
          ]
        }
      ]
    },
    {
      "cell_type": "markdown",
      "source": [
        "# 6. Calculate the area of a triangle.\n",
        "# Formula: Area of Triangle = (1/2) × Base × Height\n",
        "\n"
      ],
      "metadata": {
        "id": "SQxCclcMTnol"
      }
    },
    {
      "cell_type": "code",
      "source": [
        "height = int(input(\"Enter height of triangle: \"))\n",
        "base = int(input(\"Enter base of triangle: \"))\n",
        "areaTriangle = 0.5 * base * height\n",
        "print(\"Area of triangle with height:\", height, \"and base:\",base,\" is = \",areaTriangle)"
      ],
      "metadata": {
        "colab": {
          "base_uri": "https://localhost:8080/"
        },
        "id": "-F7PcsnlTp28",
        "outputId": "20bcebcf-0091-4b35-8a8f-671635c19421"
      },
      "execution_count": 12,
      "outputs": [
        {
          "output_type": "stream",
          "name": "stdout",
          "text": [
            "Enter height of triangle: 12\n",
            "Enter base of triangle: 10\n",
            "Area of triangle with height: 12 and base: 10  is =  60.0\n"
          ]
        }
      ]
    },
    {
      "cell_type": "markdown",
      "source": [
        "# 7. Calculate the area of a rectangle.\n",
        "# Formula: Area of Rectangle = Length × Width\n",
        "\n"
      ],
      "metadata": {
        "id": "vIyZaDe8TqE1"
      }
    },
    {
      "cell_type": "code",
      "source": [
        "length = int(input(\"Enter length of rectangle: \"))\n",
        "width = int(input(\"Enter width of rectangle: \"))\n",
        "areaRectangle = length * width\n",
        "print(\"Area of rectangle with length:\", length, \"and width:\",width,\" is = \",areaRectangle)"
      ],
      "metadata": {
        "colab": {
          "base_uri": "https://localhost:8080/"
        },
        "id": "8ptt62ZfTr-w",
        "outputId": "af36009e-6cfc-49b1-999c-39b3332448f4"
      },
      "execution_count": 13,
      "outputs": [
        {
          "output_type": "stream",
          "name": "stdout",
          "text": [
            "Enter length of rectangle: 10\n",
            "Enter width of rectangle: 15\n",
            "Area of rectangle with length: 10 and width: 15  is =  150\n"
          ]
        }
      ]
    },
    {
      "cell_type": "markdown",
      "source": [
        "# 8. Calculate the area of a square.\n",
        "# Formula: Area of Square = Side^2\n",
        "\n"
      ],
      "metadata": {
        "id": "VqEK0nqSTsO-"
      }
    },
    {
      "cell_type": "code",
      "source": [
        "side = int(input(\"Enter length of side of square: \"))\n",
        "print(\"Area of square =\",side**2)"
      ],
      "metadata": {
        "colab": {
          "base_uri": "https://localhost:8080/"
        },
        "id": "a15PHj4QTuU1",
        "outputId": "7b38db54-31f6-41b8-aa24-434fcd7d0747"
      },
      "execution_count": 11,
      "outputs": [
        {
          "output_type": "stream",
          "name": "stdout",
          "text": [
            "Enter length of side of square: 4\n",
            "Area of square = 16\n"
          ]
        }
      ]
    },
    {
      "cell_type": "markdown",
      "source": [
        "# 9. Calculate the multiplication and sum of two numbers.\n",
        "\n"
      ],
      "metadata": {
        "id": "I4atXczHTupA"
      }
    },
    {
      "cell_type": "code",
      "source": [
        "num1 = int(input(\"Enter a number: \"))\n",
        "num2 = int(input(\"Enter a number: \"))\n",
        "print(\"Multiplication of two numbers =\",num1*num2,\"\\nSum of two numbers =\",num1+num2)"
      ],
      "metadata": {
        "colab": {
          "base_uri": "https://localhost:8080/"
        },
        "id": "uS3h9vBoTwpn",
        "outputId": "3104551b-e401-47ae-8e56-3ab88befc32e"
      },
      "execution_count": 15,
      "outputs": [
        {
          "output_type": "stream",
          "name": "stdout",
          "text": [
            "Enter a number: 10\n",
            "Enter a number: 12\n",
            "Multiplication of two numbers = 120 \n",
            "Sum of two numbers = 22\n"
          ]
        }
      ]
    },
    {
      "cell_type": "markdown",
      "source": [
        "# 10. Declare two variables and print which variable is largest.\n",
        "\n"
      ],
      "metadata": {
        "id": "YYVJT-spTxA4"
      }
    },
    {
      "cell_type": "code",
      "source": [
        "a = 10\n",
        "b = 30\n",
        "max(a,b)"
      ],
      "metadata": {
        "colab": {
          "base_uri": "https://localhost:8080/"
        },
        "id": "OJhAtT8BTy4k",
        "outputId": "688511d5-9299-488a-9858-3f9e7474e6af"
      },
      "execution_count": 16,
      "outputs": [
        {
          "output_type": "execute_result",
          "data": {
            "text/plain": [
              "30"
            ]
          },
          "metadata": {},
          "execution_count": 16
        }
      ]
    },
    {
      "cell_type": "markdown",
      "source": [
        "# 11. Python program to convert the temperature in degree centigrade to Fahrenheit.\n"
      ],
      "metadata": {
        "id": "U6Ofrsa4TzIh"
      }
    },
    {
      "cell_type": "code",
      "source": [
        "degree = int(input(\"Enter value in degrees: \"))\n",
        "toFahrenheit = 32 + (degree*9/5)\n",
        "print(degree,\"degree C is equal to\",toFahrenheit,\"Fahrenheit\")"
      ],
      "metadata": {
        "colab": {
          "base_uri": "https://localhost:8080/"
        },
        "id": "DdfkU2ddT1BA",
        "outputId": "3e7d5799-7ce2-419a-cf84-a43ac46b2e82"
      },
      "execution_count": 21,
      "outputs": [
        {
          "output_type": "stream",
          "name": "stdout",
          "text": [
            "Enter value in degrees: 5\n",
            "5 degree C is equal to 41.0 Fahrenheit\n"
          ]
        }
      ]
    },
    {
      "cell_type": "markdown",
      "source": [
        "\n",
        "# 12. Python program to find the area of a triangle whose sides are given."
      ],
      "metadata": {
        "id": "r-6FqHFfT1Ov"
      }
    },
    {
      "cell_type": "code",
      "source": [
        "height = 10\n",
        "base = 12\n",
        "areaTriangle = 0.5 * base * height\n",
        "print(\"Area of triangle with height:\", height, \"and base:\",base,\" is = \",areaTriangle)"
      ],
      "metadata": {
        "colab": {
          "base_uri": "https://localhost:8080/"
        },
        "id": "q2htPg-FT2X0",
        "outputId": "5bd76c34-3a74-4ba7-b629-f2a5a163f6be"
      },
      "execution_count": 22,
      "outputs": [
        {
          "output_type": "stream",
          "name": "stdout",
          "text": [
            "Area of triangle with height: 10 and base: 12  is =  60.0\n"
          ]
        }
      ]
    }
  ]
}