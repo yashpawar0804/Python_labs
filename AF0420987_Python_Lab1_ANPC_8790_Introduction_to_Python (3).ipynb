{
  "nbformat": 4,
  "nbformat_minor": 0,
  "metadata": {
    "colab": {
      "provenance": []
    },
    "kernelspec": {
      "name": "python3",
      "display_name": "Python 3"
    },
    "language_info": {
      "name": "python"
    }
  },
  "cells": [
    {
      "cell_type": "markdown",
      "source": [
        "##1.\tWrite a Python program to take two numbers as input from the user and display their sum.\n"
      ],
      "metadata": {
        "id": "_XpZjdkTeyZQ"
      }
    },
    {
      "cell_type": "code",
      "execution_count": 2,
      "metadata": {
        "id": "UpvfmkD25zp8",
        "colab": {
          "base_uri": "https://localhost:8080/"
        },
        "outputId": "5c436868-efc6-4cd8-cbbe-0727fe98e4a9"
      },
      "outputs": [
        {
          "output_type": "stream",
          "name": "stdout",
          "text": [
            "Enter first number: 10\n",
            "Enter second number: 20\n",
            "Sum of  10  and 20 is =  30\n"
          ]
        }
      ],
      "source": [
        "num1 = int(input(\"Enter first number: \"))\n",
        "num2 = int(input(\"Enter second number: \"))\n",
        "sum = num1 + num2\n",
        "print(\"Sum of \", num1, \" and\", num2, \"is = \",sum)"
      ]
    },
    {
      "cell_type": "markdown",
      "source": [
        "##2.\tCalculate and print the midpoint of two numbers entered by the user.\n"
      ],
      "metadata": {
        "id": "PvSiuWS2e7Tl"
      }
    },
    {
      "cell_type": "code",
      "source": [
        "num1 = int(input(\"Enter first number: \"))\n",
        "num2 = int(input(\"Enter second number: \"))\n",
        "midpoint = (num1 + num2) / 2\n",
        "print(\"Midpoint of \", num1, \" and\", num2, \"is = \",midpoint)"
      ],
      "metadata": {
        "colab": {
          "base_uri": "https://localhost:8080/"
        },
        "id": "aXl3eLMfjIjv",
        "outputId": "2e84ea06-c098-4a0c-acc3-6f43d54550c6"
      },
      "execution_count": 3,
      "outputs": [
        {
          "output_type": "stream",
          "name": "stdout",
          "text": [
            "Enter first number: 10\n",
            "Enter second number: 20\n",
            "Midpoint of  10  and 20 is =  15.0\n"
          ]
        }
      ]
    },
    {
      "cell_type": "markdown",
      "source": [
        "##3.\tWrite a Python program to calculate the area of a triangle using the formula: area = 0.5 * base * height.\n"
      ],
      "metadata": {
        "id": "T-QCIkYRicDl"
      }
    },
    {
      "cell_type": "code",
      "source": [
        "height = int(input(\"Enter height of triangle: \"))\n",
        "base = int(input(\"Enter base of triangle: \"))\n",
        "areaTriangle = 0.5 * base * height\n",
        "print(\"Area of triangle with height:\", height, \"and base:\",base,\" is = \",areaTriangle)"
      ],
      "metadata": {
        "colab": {
          "base_uri": "https://localhost:8080/"
        },
        "id": "5dPRguLDjJRh",
        "outputId": "f3b3c87c-f496-41e7-fef5-7dc44e1a5f10"
      },
      "execution_count": 5,
      "outputs": [
        {
          "output_type": "stream",
          "name": "stdout",
          "text": [
            "Enter height of triangle: 15\n",
            "Enter base of triangle: 10\n",
            "Area of triangle with height: 15 and base: 10  is =  75.0\n"
          ]
        }
      ]
    },
    {
      "cell_type": "markdown",
      "source": [
        "##4.\tTake three numbers as input from the user and display their product."
      ],
      "metadata": {
        "id": "GJ-B--CcicIO"
      }
    },
    {
      "cell_type": "code",
      "source": [
        "num1 = int(input(\"Enter first number: \"))\n",
        "num2 = int(input(\"Enter second number: \"))\n",
        "num3 = int(input(\"Enter third number: \"))\n",
        "product = num1 * num2 * num3\n",
        "print(\"Product of \", num1, \",\", num2, \"and\", num3, \"is = \",product)"
      ],
      "metadata": {
        "colab": {
          "base_uri": "https://localhost:8080/"
        },
        "id": "tugBCJZ8jJ8X",
        "outputId": "4d4d7030-55bb-4fa9-f00f-0281fb4236be"
      },
      "execution_count": 16,
      "outputs": [
        {
          "output_type": "stream",
          "name": "stdout",
          "text": [
            "Enter first number: 10\n",
            "Enter second number: 20\n",
            "Enter third number: 30\n",
            "Product of  10 , 20 and 30 is =  6000\n"
          ]
        }
      ]
    },
    {
      "cell_type": "code",
      "source": [
        "from google.colab import drive\n",
        "drive.mount('/content/drive')"
      ],
      "metadata": {
        "id": "uEeGPOkKkuKk"
      },
      "execution_count": null,
      "outputs": []
    },
    {
      "cell_type": "markdown",
      "source": [
        "##5.\tTake a number as input and display its square and cube.\n"
      ],
      "metadata": {
        "id": "l5DHBhhEicPA"
      }
    },
    {
      "cell_type": "code",
      "source": [
        "num1 = int(input(\"Enter first number: \"))\n",
        "square = num1 * num1\n",
        "cube = num1 ** 3\n",
        "print(\"Square of\",num1, \"is =\",square, \"and its cube is = \",cube)"
      ],
      "metadata": {
        "colab": {
          "base_uri": "https://localhost:8080/"
        },
        "id": "5lEF8gRBjKn_",
        "outputId": "3ce2cbe6-bbcb-432f-f6e3-50074229a14f"
      },
      "execution_count": 8,
      "outputs": [
        {
          "output_type": "stream",
          "name": "stdout",
          "text": [
            "Enter first number: 2\n",
            "Square of 2 is = 4 and its cube is =  8\n"
          ]
        }
      ]
    },
    {
      "cell_type": "markdown",
      "source": [
        "##6.\tTake two numbers as input and display their quotient and remainder.\n"
      ],
      "metadata": {
        "id": "uIvgXfXgitEE"
      }
    },
    {
      "cell_type": "code",
      "source": [
        "num1 = int(input(\"Enter first number: \"))\n",
        "num2 = int(input(\"Enter second number: \"))\n",
        "quotient = num1/num2\n",
        "remainder = num1%num2\n",
        "print(\"Quotient of \", num1, \" and\", num2, \"is = \",quotient, \"and remainder is = \",remainder)"
      ],
      "metadata": {
        "colab": {
          "base_uri": "https://localhost:8080/"
        },
        "id": "eyldvk6xjLbM",
        "outputId": "c0048784-612c-42f9-9859-70c34b1366f0"
      },
      "execution_count": 10,
      "outputs": [
        {
          "output_type": "stream",
          "name": "stdout",
          "text": [
            "Enter first number: 15\n",
            "Enter second number: 3\n",
            "Quotient of  15  and 3 is =  5.0 and remainder is =  0\n"
          ]
        }
      ]
    },
    {
      "cell_type": "markdown",
      "source": [
        "##7.\tTake three numbers as input and display their average.\n"
      ],
      "metadata": {
        "id": "4w3x0a_7it2y"
      }
    },
    {
      "cell_type": "code",
      "source": [
        "num1 = int(input(\"Enter first number: \"))\n",
        "num2 = int(input(\"Enter second number: \"))\n",
        "num3 = int(input(\"Enter third number: \"))\n",
        "average = (num1 + num2 + num3) / 3\n",
        "print(\"Average of three numbers:\",num1,\",\",num2,\"and\",num3,\"is\",average)"
      ],
      "metadata": {
        "colab": {
          "base_uri": "https://localhost:8080/"
        },
        "id": "3GZWSziCjMGX",
        "outputId": "8040381b-244c-4147-902c-5d5dc758641d"
      },
      "execution_count": 12,
      "outputs": [
        {
          "output_type": "stream",
          "name": "stdout",
          "text": [
            "Enter first number: 10\n",
            "Enter second number: 15\n",
            "Enter third number: 5\n",
            "Average of three numbers: 10 , 15 and 5 is 10.0\n"
          ]
        }
      ]
    },
    {
      "cell_type": "markdown",
      "source": [
        "##8.\tWrite a Python program to calculate the area of a rectangle using the formula: area = length * width.\n"
      ],
      "metadata": {
        "id": "2OIGS2Dait6V"
      }
    },
    {
      "cell_type": "code",
      "source": [
        "length = int(input(\"Enter length of rectangle: \"))\n",
        "width = int(input(\"Enter width of rectangle: \"))\n",
        "areaRectangle = length * width\n",
        "print(\"Area of rectangle with length:\", length, \"and width:\",width,\" is = \",areaRectangle)"
      ],
      "metadata": {
        "colab": {
          "base_uri": "https://localhost:8080/"
        },
        "id": "cQ5ultQljMzv",
        "outputId": "c4600688-2b36-4398-df48-0340b18b962f"
      },
      "execution_count": 13,
      "outputs": [
        {
          "output_type": "stream",
          "name": "stdout",
          "text": [
            "Enter length of rectangle: 12\n",
            "Enter width of rectangle: 6\n",
            "Area of rectangle with length: 12 and width: 6  is =  72\n"
          ]
        }
      ]
    },
    {
      "cell_type": "markdown",
      "source": [
        "##9.\tTake five numbers as input representing marks obtained and total marks. Display the percentage."
      ],
      "metadata": {
        "id": "iyxTkLP1jBKT"
      }
    },
    {
      "cell_type": "code",
      "source": [
        "sub1 = int(input(\"Enter first subject marks: \"))\n",
        "sub2 = int(input(\"Enter second subject marks: \"))\n",
        "sub3 = int(input(\"Enter third subject marks: \"))\n",
        "sub4 = int(input(\"Enter fourth subject marks: \"))\n",
        "sub5 = int(input(\"Enter fifth subject marks: \"))\n",
        "totalMarks = int(input(\"Enter total marks: \"))\n",
        "totalScored_marks = sub1 + sub2 + sub3 + sub4 + sub5\n",
        "percentage = (totalScored_marks / totalMarks) * 100\n",
        "print(\"Percentage obtained =\",percentage)\n"
      ],
      "metadata": {
        "colab": {
          "base_uri": "https://localhost:8080/"
        },
        "id": "ZXOBv9nxe8pG",
        "outputId": "2487c8a5-d290-4afa-f308-4170728b4aca"
      },
      "execution_count": 15,
      "outputs": [
        {
          "output_type": "stream",
          "name": "stdout",
          "text": [
            "Enter first subject marks: 82\n",
            "Enter second subject marks: 72\n",
            "Enter third subject marks: 85\n",
            "Enter fourth subject marks: 90\n",
            "Enter fifth subject marks: 78\n",
            "Enter total marks: 500\n",
            "Percentage obtained = 81.39999999999999\n"
          ]
        }
      ]
    },
    {
      "cell_type": "markdown",
      "source": [
        "##Q.10 print helloworld\n",
        "\n"
      ],
      "metadata": {
        "id": "YeoKSWceBDkB"
      }
    },
    {
      "cell_type": "code",
      "source": [
        "print(\"Hello World\")"
      ],
      "metadata": {
        "colab": {
          "base_uri": "https://localhost:8080/"
        },
        "id": "isibj9fABW4F",
        "outputId": "bb162110-aed4-473f-e6b0-b8a19e9e5e9d"
      },
      "execution_count": 1,
      "outputs": [
        {
          "output_type": "stream",
          "name": "stdout",
          "text": [
            "Hello World\n"
          ]
        }
      ]
    },
    {
      "cell_type": "markdown",
      "source": [
        "##Q.11 describe local variable and global variable code\n",
        "\n"
      ],
      "metadata": {
        "id": "jeAx4edKBGoE"
      }
    },
    {
      "cell_type": "code",
      "source": [
        "x = 10\n",
        "\n",
        "def variable():\n",
        "  y = 12\n",
        "  print(\"Local variable y: \",y)\n",
        "  print(\"Global variable x inside function: \",x)\n",
        "\n",
        "variable()\n",
        "\n",
        "print(\"gloabal variable outside function: \",x)"
      ],
      "metadata": {
        "colab": {
          "base_uri": "https://localhost:8080/"
        },
        "id": "oBXqMKVPBbmv",
        "outputId": "a981d09b-3274-4aff-ea42-f75f0b576c14"
      },
      "execution_count": 8,
      "outputs": [
        {
          "output_type": "stream",
          "name": "stdout",
          "text": [
            "Local variable y:  12\n",
            "Global variable x inside function:  10\n",
            "gloabal variable outside function:  10\n"
          ]
        }
      ]
    },
    {
      "cell_type": "code",
      "source": [
        "print(\"local variable outside function\",y) #local variable canot be accessed outside"
      ],
      "metadata": {
        "colab": {
          "base_uri": "https://localhost:8080/",
          "height": 141
        },
        "id": "ywzDwNUtG5cs",
        "outputId": "b7133190-68c8-4b9c-ee40-b325bfb5f78f"
      },
      "execution_count": 9,
      "outputs": [
        {
          "output_type": "error",
          "ename": "NameError",
          "evalue": "name 'y' is not defined",
          "traceback": [
            "\u001b[0;31m---------------------------------------------------------------------------\u001b[0m",
            "\u001b[0;31mNameError\u001b[0m                                 Traceback (most recent call last)",
            "\u001b[0;32m<ipython-input-9-4ea7acbc8b1e>\u001b[0m in \u001b[0;36m<cell line: 1>\u001b[0;34m()\u001b[0m\n\u001b[0;32m----> 1\u001b[0;31m \u001b[0mprint\u001b[0m\u001b[0;34m(\u001b[0m\u001b[0;34m\"local variable outside function\"\u001b[0m\u001b[0;34m,\u001b[0m\u001b[0my\u001b[0m\u001b[0;34m)\u001b[0m\u001b[0;34m\u001b[0m\u001b[0;34m\u001b[0m\u001b[0m\n\u001b[0m",
            "\u001b[0;31mNameError\u001b[0m: name 'y' is not defined"
          ]
        }
      ]
    },
    {
      "cell_type": "markdown",
      "source": [
        "##Q.12 Write a code that describe Indentation error\n"
      ],
      "metadata": {
        "id": "s611sa6cBJEH"
      }
    },
    {
      "cell_type": "markdown",
      "source": [
        "Here is the code that give indentation error"
      ],
      "metadata": {
        "id": "ZLPYnjAbIBrU"
      }
    },
    {
      "cell_type": "code",
      "source": [
        "a = 4\n",
        "if a < 2:\n",
        "print(\"Less than 2\")\n",
        "  else:\n",
        "    print('Greater than 2')"
      ],
      "metadata": {
        "colab": {
          "base_uri": "https://localhost:8080/",
          "height": 106
        },
        "id": "P4BIdCeiBeRN",
        "outputId": "529f58ba-f272-4457-e6ee-f530b69249fe"
      },
      "execution_count": 4,
      "outputs": [
        {
          "output_type": "error",
          "ename": "IndentationError",
          "evalue": "expected an indented block after 'if' statement on line 2 (<ipython-input-4-7b11896627e2>, line 3)",
          "traceback": [
            "\u001b[0;36m  File \u001b[0;32m\"<ipython-input-4-7b11896627e2>\"\u001b[0;36m, line \u001b[0;32m3\u001b[0m\n\u001b[0;31m    print(\"Less than 2\")\u001b[0m\n\u001b[0m    ^\u001b[0m\n\u001b[0;31mIndentationError\u001b[0m\u001b[0;31m:\u001b[0m expected an indented block after 'if' statement on line 2\n"
          ]
        }
      ]
    },
    {
      "cell_type": "markdown",
      "source": [
        "\n",
        "##Q.13 write a code that describe local and global variable with same name\n"
      ],
      "metadata": {
        "id": "NQ9PickqBO4P"
      }
    },
    {
      "cell_type": "code",
      "source": [
        "x = 10\n",
        "\n",
        "def variable():\n",
        "  x = 12\n",
        "  print(\"Local variable x: \",x)\n",
        "variable()\n",
        "\n",
        "print(\"gloabal variable outside function: \",x)"
      ],
      "metadata": {
        "colab": {
          "base_uri": "https://localhost:8080/"
        },
        "id": "A4ygamx2CM-R",
        "outputId": "26db0a9e-e0b3-4fc5-c296-fcb75c1fbd8e"
      },
      "execution_count": 10,
      "outputs": [
        {
          "output_type": "stream",
          "name": "stdout",
          "text": [
            "Local variable x:  12\n",
            "gloabal variable outside function:  10\n"
          ]
        }
      ]
    },
    {
      "cell_type": "markdown",
      "source": [
        "##Q.14 Write a code for string, int and float input."
      ],
      "metadata": {
        "id": "fgU4XpbdBQ2D"
      }
    },
    {
      "cell_type": "code",
      "source": [
        "String = input(\"Enter string: \")\n",
        "integer = int(input(\"Enter integer: \"))\n",
        "Float = float(input(\"Enter float number: \"))"
      ],
      "metadata": {
        "colab": {
          "base_uri": "https://localhost:8080/"
        },
        "id": "npsJgk7jCMYR",
        "outputId": "93a34994-f4d6-4182-ac1c-7dfda161283c"
      },
      "execution_count": 7,
      "outputs": [
        {
          "name": "stdout",
          "output_type": "stream",
          "text": [
            "Enter string: abcd\n",
            "Enter integer: 2\n",
            "Enter float number: 2.5\n"
          ]
        }
      ]
    }
  ]
}