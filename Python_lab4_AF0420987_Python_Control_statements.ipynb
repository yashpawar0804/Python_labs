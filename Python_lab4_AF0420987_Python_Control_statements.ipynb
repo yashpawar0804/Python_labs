{
  "nbformat": 4,
  "nbformat_minor": 0,
  "metadata": {
    "colab": {
      "provenance": []
    },
    "kernelspec": {
      "name": "python3",
      "display_name": "Python 3"
    },
    "language_info": {
      "name": "python"
    }
  },
  "cells": [
    {
      "cell_type": "markdown",
      "source": [
        "1.     Write a Python program that takes a number as input and prints \"Even\" if the number is even and \"Odd\" if it's odd."
      ],
      "metadata": {
        "id": "lQz7spES2ANZ"
      }
    },
    {
      "cell_type": "code",
      "execution_count": 2,
      "metadata": {
        "colab": {
          "base_uri": "https://localhost:8080/"
        },
        "id": "fz1RBUYC1Lmx",
        "outputId": "68837cb8-f343-48ad-cf01-5860a46beb1d"
      },
      "outputs": [
        {
          "output_type": "stream",
          "name": "stdout",
          "text": [
            "Enter a number: 3\n",
            "Odd\n"
          ]
        }
      ],
      "source": [
        "num1 = int(input(\"Enter a number: \"))\n",
        "if num1 % 2 == 0:\n",
        "  print(\"Even\")\n",
        "else:\n",
        "  print(\"Odd\")"
      ]
    },
    {
      "cell_type": "markdown",
      "source": [
        "2.      Create a Python program that checks whether a person is eligible to vote (18 years or older) based on their age.\n",
        "\n"
      ],
      "metadata": {
        "id": "HrGNyJGA19ab"
      }
    },
    {
      "cell_type": "code",
      "source": [
        "age = int(input(\"Enter your age: \"))\n",
        "if age >= 18:\n",
        "  print(\"Eligible to vote\")"
      ],
      "metadata": {
        "colab": {
          "base_uri": "https://localhost:8080/"
        },
        "id": "sdyY1thn2IQ7",
        "outputId": "5b4f949e-f442-422c-97e8-f587920371be"
      },
      "execution_count": 5,
      "outputs": [
        {
          "output_type": "stream",
          "name": "stdout",
          "text": [
            "Enter your age: 21\n",
            "Eligible to vote\n"
          ]
        }
      ]
    },
    {
      "cell_type": "markdown",
      "source": [
        "3.      Write a Python program that determines if a given year is a leap year or not.\n",
        "\n"
      ],
      "metadata": {
        "id": "V3xvtPSj2Iws"
      }
    },
    {
      "cell_type": "code",
      "source": [
        "year = int(input(\"Enter a year: \"))\n",
        "if year % 4 == 0:\n",
        "  print(\"Leap year\")"
      ],
      "metadata": {
        "colab": {
          "base_uri": "https://localhost:8080/"
        },
        "id": "DqWaaCvk2KPR",
        "outputId": "a8416a23-4b95-4336-c785-ced5755a08c5"
      },
      "execution_count": 6,
      "outputs": [
        {
          "output_type": "stream",
          "name": "stdout",
          "text": [
            "Enter a year: 2004\n",
            "Leap year\n"
          ]
        }
      ]
    },
    {
      "cell_type": "markdown",
      "source": [
        "4.      Create a Python program that checks if a user-given number is positive, negative, or zero.\n",
        "\n"
      ],
      "metadata": {
        "id": "YzfdfWQW2KeL"
      }
    },
    {
      "cell_type": "code",
      "source": [
        "num1 = int(input(\"Enter a number: \"))\n",
        "if num1 > 0:\n",
        "  print(\"Positive number\")\n",
        "elif num1 < 0:\n",
        "  print(\"Negative number\")\n",
        "else:\n",
        "  print(\"zero\")"
      ],
      "metadata": {
        "colab": {
          "base_uri": "https://localhost:8080/"
        },
        "id": "HsSIrKOE2MV2",
        "outputId": "dcaaebe6-55ce-440f-b9ca-905b75ef583f"
      },
      "execution_count": 7,
      "outputs": [
        {
          "output_type": "stream",
          "name": "stdout",
          "text": [
            "Enter a number: 0\n",
            "zero\n"
          ]
        }
      ]
    },
    {
      "cell_type": "markdown",
      "source": [
        "5.      Write a Python program that determines the largest of three numbers entered by the user."
      ],
      "metadata": {
        "id": "sws3nwSG2MjB"
      }
    },
    {
      "cell_type": "code",
      "source": [
        "num1 = int(input(\"Enter 1st num: \"))\n",
        "num2 = int(input(\"Enter 2nd num: \"))\n",
        "num3 = int(input(\"Enter 3rd num: \"))\n",
        "if (num1>num2 and num1>num3):\n",
        "  print(num1,\"1st number is greater\")\n",
        "elif(num2>num1 and num2>num3):\n",
        "  print(num2, \"2nd number is greater\")\n",
        "else:\n",
        "  print(num3,\"3rd number is greater\")"
      ],
      "metadata": {
        "colab": {
          "base_uri": "https://localhost:8080/"
        },
        "id": "Pu1izdGW19Lc",
        "outputId": "8954dc17-0841-4bc1-805a-8393683e8fcf"
      },
      "execution_count": 8,
      "outputs": [
        {
          "output_type": "stream",
          "name": "stdout",
          "text": [
            "Enter 1st num: 5\n",
            "Enter 2nd num: 10\n",
            "Enter 3rd num: 2\n",
            "10 2nd number is greater\n"
          ]
        }
      ]
    }
  ]
}